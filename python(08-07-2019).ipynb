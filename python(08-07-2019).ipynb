{
 "cells": [
  {
   "cell_type": "code",
   "execution_count": 2,
   "metadata": {},
   "outputs": [
    {
     "name": "stdout",
     "output_type": "stream",
     "text": [
      "P   T   O   "
     ]
    }
   ],
   "source": [
    "####Function to print the upper case character\n",
    "#Examples:-\n",
    "#ASCII\n",
    "#A to Z:65-90\n",
    "# ato z:97-122\n",
    "# 0 to 9: 48-57\n",
    "# space:32\n",
    "def printupper(x):\n",
    "    for i in range(len(x)):\n",
    "        if ord(x[i])>65 and ord(x[i])<=90:\n",
    "            print(x[i],end=\"   \" )\n",
    "    return\n",
    "printupper(\"PyThOn\")"
   ]
  },
  {
   "cell_type": "code",
   "execution_count": 14,
   "metadata": {},
   "outputs": [
    {
     "name": "stdout",
     "output_type": "stream",
     "text": [
      "SameCount\n",
      "SameCount\n",
      "SameCount\n"
     ]
    }
   ],
   "source": [
    "#Function to print \"Samecount\" if the count of\n",
    "#Upper and Lower case is same\n",
    "#Print \"Programming\" if not same\n",
    "#Example:-PyThOn-- 3 P T O(Upper case)--same count\n",
    "#                   3 y h n(Lower Case)\n",
    "#PytHon--P H(2)\n",
    "#      --y t o n(4)-Programming\n",
    "def findcount(str):\n",
    "    cntupper=0\n",
    "    cntlower=0\n",
    "    for x in range(len(str)):\n",
    "        if ord(str[x])>=65 and ord(str[x])<=90:\n",
    "            cntupper=cntupper+1\n",
    "        elif ord(str[x])>=97 and ord(str[x])<=122:\n",
    "            cntlower=cntlower+1\n",
    "    if cntupper==cntlower:\n",
    "        return \"SameCount\"\n",
    "    else:\n",
    "        return \"Programming\"\n",
    "    return\n",
    "print(findcount(\"PyThOn\")) #SameCount\n",
    "print(findcount('PyThOn'))#Programming\n",
    "print(findcount(\"PyThOn\"))\n",
    "\n",
    "            \n",
    "            "
   ]
  },
  {
   "cell_type": "code",
   "execution_count": 17,
   "metadata": {},
   "outputs": [
    {
     "name": "stdout",
     "output_type": "stream",
     "text": [
      "8    8    9    "
     ]
    }
   ],
   "source": [
    "#Extract digits from given string\n",
    "#Example:\n",
    "#Input:Applicat8ion89\n",
    "#Output:1 8 8 9\n",
    "def extractDigits(str):\n",
    "    for x in range(len(str)):\n",
    "        if ord(str[x])>=48 and ord(str[x])<=57:\n",
    "            print(str[x],end=\"    \")\n",
    "    return\n",
    "extractDigits(\"Applicat8ion89\")"
   ]
  },
  {
   "cell_type": "code",
   "execution_count": 25,
   "metadata": {},
   "outputs": [
    {
     "data": {
      "text/plain": [
       "26"
      ]
     },
     "execution_count": 25,
     "metadata": {},
     "output_type": "execute_result"
    }
   ],
   "source": [
    "#Function to return the sum of digits in a given string\n",
    "#Example:\n",
    "#Input:Appli1cat8ion89\n",
    "#output:26(1+8+8+9)\n",
    "def SumofDigits(str):\n",
    "    sum=0\n",
    "    for x in range(len(str)):\n",
    "        if ord(str[x])>=48 and ord(str[x])<=57:\n",
    "            sum=sum+(ord(str[x])-48)\n",
    "    return sum\n",
    "SumofDigits(\"Appli1cat8ion89\")"
   ]
  },
  {
   "cell_type": "code",
   "execution_count": 27,
   "metadata": {},
   "outputs": [
    {
     "data": {
      "text/plain": [
       "16"
      ]
     },
     "execution_count": 27,
     "metadata": {},
     "output_type": "execute_result"
    }
   ],
   "source": [
    "#Function to return the sum of digits in a given string\n",
    "#Example:\n",
    "#Input:Appli1cat8ion89\n",
    "#output:16(8+8)\n",
    "def SumofEvenDigits(str):\n",
    "    sum=0\n",
    "    for x in range(len(str)):\n",
    "        if ord(str[x])>=48 and ord(str[x])<=57:\n",
    "             if (ord(str[x])-48)%2==0:\n",
    "                    sum=sum+(ord(str[x])-48)\n",
    "    return sum\n",
    "SumofEvenDigits(\"Appli1cat8ion89\")"
   ]
  },
  {
   "cell_type": "code",
   "execution_count": 43,
   "metadata": {},
   "outputs": [
    {
     "name": "stdout",
     "output_type": "stream",
     "text": [
      "P   Y  T  H  O  N  M   A  D  E  None\n"
     ]
    }
   ],
   "source": [
    "#Function to print specific word in Upper CASE\n",
    "#example:\n",
    "#Input:Python Made Easy\n",
    "#Output:Made\n",
    "#Input:Learn Python Programming\n",
    "#oUTPUT:pYTHON\n",
    "def uppercase(s):\n",
    "    spacecount=0\n",
    "    for x in range(len(s)):\n",
    "        if ord(s[x])==32:\n",
    "            spacecount+=1 #spacecount=spacecount+1\n",
    "        if ord(s[x])>65 and ord(s[x])<=90:\n",
    "            print(s[x],end=\"   \" )\n",
    "        elif ord(s[x])>=97 and ord(s[x])<=122:\n",
    "            print(chr(ord(s[x])-32),end=\"  \")\n",
    "        if spacecount==2:\n",
    "            break\n",
    "    return\n",
    "print(uppercase('Python Made Easy'))"
   ]
  },
  {
   "cell_type": "code",
   "execution_count": null,
   "metadata": {},
   "outputs": [],
   "source": []
  },
  {
   "cell_type": "code",
   "execution_count": null,
   "metadata": {},
   "outputs": [],
   "source": []
  }
 ],
 "metadata": {
  "kernelspec": {
   "display_name": "Python 3",
   "language": "python",
   "name": "python3"
  },
  "language_info": {
   "codemirror_mode": {
    "name": "ipython",
    "version": 3
   },
   "file_extension": ".py",
   "mimetype": "text/x-python",
   "name": "python",
   "nbconvert_exporter": "python",
   "pygments_lexer": "ipython3",
   "version": "3.7.3"
  }
 },
 "nbformat": 4,
 "nbformat_minor": 2
}
