{
 "cells": [
  {
   "cell_type": "markdown",
   "metadata": {},
   "source": [
    "### Standard Libraries\n",
    "- File I/O\n",
    "- Regular Expression\n",
    "- Datetime\n",
    "- Math(Numerical and Mathematical)"
   ]
  },
  {
   "cell_type": "markdown",
   "metadata": {},
   "source": [
    "- Write,Read,Analysis--data sciences and Analysis"
   ]
  },
  {
   "cell_type": "markdown",
   "metadata": {},
   "source": [
    "## File Handling in python\n",
    "-  File:-Document containing information resides on the permanent storage\n",
    "- Different types of files:-txt,doc,pdf,csv and etc...\n",
    "- Input:- Keyboard\n",
    "- Output:- File\n",
    "## Modes of the file I/O\n",
    "- 'w'--This mode is used to file writing\n",
    "  -- If the file is not present first it creates the file and write so me data to it\n",
    "  \n",
    "  -- If the file is already present it will rewrite the previous content"
   ]
  },
  {
   "cell_type": "code",
   "execution_count": 3,
   "metadata": {},
   "outputs": [
    {
     "name": "stdout",
     "output_type": "stream",
     "text": [
      "File is created and data has written\n"
     ]
    }
   ],
   "source": [
    "#Functon to create the file and write to the file\n",
    "def createfile(filename):\n",
    "    f=open(filename,'w')\n",
    "    for i in range(10):\n",
    "        f.write('this is %d line\\n'% i)\n",
    "    print(\"File is created and data has written\")\n",
    "    return\n",
    "createfile('file1.txt')"
   ]
  },
  {
   "cell_type": "code",
   "execution_count": 2,
   "metadata": {},
   "outputs": [
    {
     "name": "stdout",
     "output_type": "stream",
     "text": [
      " Volume in drive C is WIN 7\n",
      " Volume Serial Number is B05C-420C\n",
      "\n",
      " Directory of C:\\Users\\199\n",
      "\n",
      "07/11/2019  09:35 AM    <DIR>          .\n",
      "07/11/2019  09:35 AM    <DIR>          ..\n",
      "05/07/2019  09:49 AM    <DIR>          .anaconda\n",
      "03/17/2017  03:30 PM               145 .appletviewer\n",
      "11/02/2017  03:20 PM                 0 .cdtclient\n",
      "07/08/2019  05:04 PM    <DIR>          .conda\n",
      "07/08/2019  02:24 PM                43 .condarc\n",
      "05/21/2019  05:27 PM               203 .gitconfig\n",
      "07/11/2019  09:19 AM    <DIR>          .ipynb_checkpoints\n",
      "05/06/2019  09:40 AM    <DIR>          .ipython\n",
      "07/09/2019  02:21 PM    <DIR>          .jupyter\n",
      "11/16/2018  10:24 AM    <DIR>          .oracle_jre_usage\n",
      "05/21/2019  08:06 PM             5,115 21st may 19.ipynb\n",
      "07/14/2009  10:22 AM           845,941 222.jpg.jpg\n",
      "04/22/2019  04:43 PM    <DIR>          Anaconda3\n",
      "07/14/2009  10:22 AM           879,394 Chrysanthemum.jpg\n",
      "05/13/2019  10:44 AM    <DIR>          Contacts\n",
      "07/06/2019  04:12 PM    <DIR>          Desktop\n",
      "05/13/2019  04:44 PM    <DIR>          Documents\n",
      "05/21/2019  10:11 PM    <DIR>          Downloads\n",
      "05/13/2019  10:44 AM    <DIR>          Favorites\n",
      "07/11/2019  09:33 AM               140 file1.txt\n",
      "05/13/2019  10:44 AM    <DIR>          Links\n",
      "05/13/2019  10:44 AM    <DIR>          Music\n",
      "05/13/2019  10:44 AM    <DIR>          Pictures\n",
      "06/22/2019  10:55 AM             3,810 pithon  s.ipynb\n",
      "07/09/2019  05:06 PM            19,321 python day(09-07-2019).ipynb\n",
      "07/08/2019  04:45 PM             5,533 python(08-07-2019).ipynb\n",
      "07/10/2019  12:41 PM            16,570 Python(09-07-2019).ipynb\n",
      "07/11/2019  09:19 AM            23,587 python(10-07-2019).ipynb\n",
      "07/11/2019  09:35 AM             1,978 Python(11-07-2019).ipynb\n",
      "06/21/2019  05:26 PM             2,820 rakii.ipynb\n",
      "05/13/2019  10:44 AM    <DIR>          Saved Games\n",
      "05/13/2019  10:44 AM    <DIR>          Searches\n",
      "05/06/2019  09:40 AM                72 Untitled.ipynb\n",
      "06/22/2019  02:11 AM               930 Untitled1.ipynb\n",
      "06/25/2019  02:55 PM             1,756 Untitled10.ipynb\n",
      "07/06/2019  09:24 AM               732 Untitled11.ipynb\n",
      "07/06/2019  10:50 AM             2,994 Untitled12.ipynb\n",
      "07/06/2019  12:57 PM             1,634 Untitled13.ipynb\n",
      "06/21/2019  04:21 PM             1,111 Untitled2.ipynb\n",
      "06/21/2019  04:51 PM                72 Untitled3.ipynb\n",
      "06/22/2019  09:51 AM             1,227 Untitled4.ipynb\n",
      "06/22/2019  09:51 AM                72 Untitled5.ipynb\n",
      "06/22/2019  11:17 AM             4,451 Untitled6.ipynb\n",
      "06/22/2019  11:00 AM               858 Untitled7.ipynb\n",
      "06/22/2019  11:08 AM             1,144 Untitled8.ipynb\n",
      "06/25/2019  09:27 AM                72 Untitled9.ipynb\n",
      "05/13/2019  10:44 AM    <DIR>          Videos\n",
      "              29 File(s)      1,821,725 bytes\n",
      "              20 Dir(s)  79,237,672,960 bytes free\n"
     ]
    }
   ],
   "source": [
    "ls"
   ]
  },
  {
   "cell_type": "code",
   "execution_count": 4,
   "metadata": {},
   "outputs": [
    {
     "name": "stdout",
     "output_type": "stream",
     "text": [
      "File is created and data has written\n"
     ]
    }
   ],
   "source": [
    "#Functon to create the file and write to the file\n",
    "def createfile(filename):\n",
    "    f=open(filename,'w')\n",
    "    for i in range(10):\n",
    "        f.write('Testing....\\n')\n",
    "    print(\"File is created and data has written\")\n",
    "    return\n",
    "createfile('file1.txt')"
   ]
  },
  {
   "cell_type": "code",
   "execution_count": 9,
   "metadata": {},
   "outputs": [
    {
     "name": "stdout",
     "output_type": "stream",
     "text": [
      "File is created and successfully data written\n"
     ]
    }
   ],
   "source": [
    "def appenddata(filename):\n",
    "    f=open(filename,'a')\n",
    "    for i in range(10):\n",
    "        f.write(\"this is %d line\\n\"% i)\n",
    "    print(\"File is created and successfully data written\")\n",
    "    return\n",
    "appenddata('file2.txt')\n",
    "\n",
    "        "
   ]
  },
  {
   "cell_type": "code",
   "execution_count": 10,
   "metadata": {},
   "outputs": [
    {
     "name": "stdout",
     "output_type": "stream",
     "text": [
      "File is created and data has written\n"
     ]
    }
   ],
   "source": [
    "def appenddata(filename):\n",
    "    f=open(filename,'a')\n",
    "    f.write(\"New Line 1\\n\")\n",
    "    f.write(\"New Line 2\\n\")\n",
    "    print(\"File is created and data has written\")\n",
    "    return\n",
    "appenddata('file2.txt')\n",
    "    \n",
    "    \n",
    "    \n",
    "        "
   ]
  },
  {
   "cell_type": "code",
   "execution_count": 11,
   "metadata": {},
   "outputs": [
    {
     "name": "stdout",
     "output_type": "stream",
     "text": [
      "this is 0 line\n",
      "this is 1 line\n",
      "this is 2 line\n",
      "this is 3 line\n",
      "this is 4 line\n",
      "this is 5 line\n",
      "this is 6 line\n",
      "this is 7 line\n",
      "this is 8 line\n",
      "this is 9 line\n",
      "this is 0 line\n",
      "this is 1 line\n",
      "this is 2 line\n",
      "this is 3 line\n",
      "this is 4 line\n",
      "this is 5 line\n",
      "this is 6 line\n",
      "this is 7 line\n",
      "this is 8 line\n",
      "this is 9 line\n",
      "this is 0 line\n",
      "this is 1 line\n",
      "this is 2 line\n",
      "this is 3 line\n",
      "this is 4 line\n",
      "this is 5 line\n",
      "this is 6 line\n",
      "this is 7 line\n",
      "this is 8 line\n",
      "this is 9 line\n",
      "New Line 1\n",
      "New Line 2\n",
      "this is 0 line\n",
      "this is 1 line\n",
      "this is 2 line\n",
      "this is 3 line\n",
      "this is 4 line\n",
      "this is 5 line\n",
      "this is 6 line\n",
      "this is 7 line\n",
      "this is 8 line\n",
      "this is 9 line\n",
      "New Line 1\n",
      "New Line 2\n",
      "\n"
     ]
    }
   ],
   "source": [
    "#Function to read the file \n",
    "def readdata(filename):\n",
    "    f=open(filename,'r')\n",
    "    if f.mode=='r':\n",
    "        x=f.read()\n",
    "        print(x)\n",
    "        f.close()\n",
    "    return\n",
    "readdata('file2.txt')"
   ]
  },
  {
   "cell_type": "code",
   "execution_count": 64,
   "metadata": {},
   "outputs": [
    {
     "name": "stdout",
     "output_type": "stream",
     "text": [
      "Enter the file namefile1.txt\n",
      "enter the mode of the filer\n",
      "Testing....\n",
      "Testing....\n",
      "Testing....\n",
      "Testing....\n",
      "Testing....\n",
      "Testing....\n",
      "Testing....\n",
      "Testing....\n",
      "Testing....\n",
      "Testing....\n",
      "\n"
     ]
    }
   ],
   "source": [
    "# Function to read the file\n",
    "def fileoperations(filename,mode):\n",
    "    with open(filename,mode) as f:\n",
    "        if f.mode=='r':\n",
    "            data=f.read()\n",
    "            print(data)\n",
    "        elif f.mode=='a':\n",
    "            f.write('Data to the file')\n",
    "            print('the data is successfully written')\n",
    "    f.close()\n",
    "    return\n",
    "filename=input('Enter the file name')\n",
    "mode=input('enter the mode of the file')\n",
    "fileoperations(filename,mode)"
   ]
  },
  {
   "cell_type": "code",
   "execution_count": 23,
   "metadata": {},
   "outputs": [
    {
     "name": "stdout",
     "output_type": "stream",
     "text": [
      "enter the filename:file1.txt\n",
      "enter the word:Testing....\n"
     ]
    },
    {
     "data": {
      "text/plain": [
       "10"
      ]
     },
     "execution_count": 23,
     "metadata": {},
     "output_type": "execute_result"
    }
   ],
   "source": [
    "# Data Analysis\n",
    "# Word count Program\n",
    "def wordcount(filename,word):\n",
    "    with open(filename,mode) as f:\n",
    "        if  f.mode=='r':\n",
    "            x=f.read()\n",
    "            li=x.split() # It's splits the string with white space\n",
    "    cnt=li.count(word)\n",
    "    return cnt\n",
    "filename=input('enter the filename:')\n",
    "word=input('enter the word:') #which wordcount is needed\n",
    "wordcount(filename,word)"
   ]
  },
  {
   "cell_type": "code",
   "execution_count": 32,
   "metadata": {},
   "outputs": [
    {
     "name": "stdout",
     "output_type": "stream",
     "text": [
      "enter the filename:data.txt\n"
     ]
    },
    {
     "data": {
      "text/plain": [
       "16"
      ]
     },
     "execution_count": 32,
     "metadata": {},
     "output_type": "execute_result"
    }
   ],
   "source": [
    "# Character count from the given file\n",
    "def charactercount(filename):\n",
    "    with open(filename,'r') as f:\n",
    "        if  f.mode=='r':\n",
    "            x=f.read()\n",
    "            li=list(x) # convert the string-char\n",
    "    return len(li)\n",
    "filename=input('enter the filename:')\n",
    "charactercount(filename)\n"
   ]
  },
  {
   "cell_type": "code",
   "execution_count": 28,
   "metadata": {},
   "outputs": [
    {
     "name": "stdout",
     "output_type": "stream",
     "text": [
      "2\n"
     ]
    }
   ],
   "source": [
    "li=[1,9,8,2,6,5,2]\n",
    "print(li.index(8))"
   ]
  },
  {
   "cell_type": "code",
   "execution_count": 40,
   "metadata": {},
   "outputs": [
    {
     "name": "stdout",
     "output_type": "stream",
     "text": [
      "['Python Progr', 'mming']\n"
     ]
    }
   ],
   "source": [
    "s1=\"Python Programming\"\n",
    "print(s1.split('a'))"
   ]
  },
  {
   "cell_type": "code",
   "execution_count": 43,
   "metadata": {},
   "outputs": [
    {
     "name": "stdout",
     "output_type": "stream",
     "text": [
      "enter the filename:file1.txt\n"
     ]
    },
    {
     "data": {
      "text/plain": [
       "11"
      ]
     },
     "execution_count": 43,
     "metadata": {},
     "output_type": "execute_result"
    }
   ],
   "source": [
    "#Function to find the no.of linesin the input files\n",
    "#Input:-filename(file2.txt)\n",
    "#output:-No.of lines(12)\n",
    "def linecount(filename):\n",
    "    with open(filename,'r') as f:\n",
    "         if  f.mode=='r':\n",
    "            x=f.read()\n",
    "            li=x.split(\"\\n\")\n",
    "    return len(li)\n",
    "        \n",
    "filename=input('enter the filename:')\n",
    "linecount(filename)\n",
    "        \n",
    "    "
   ]
  },
  {
   "cell_type": "code",
   "execution_count": 51,
   "metadata": {},
   "outputs": [
    {
     "name": "stdout",
     "output_type": "stream",
     "text": [
      "enter the filename:file1.txt\n"
     ]
    },
    {
     "data": {
      "text/plain": [
       "'upper case=10,Lower case=60'"
      ]
     },
     "execution_count": 51,
     "metadata": {},
     "output_type": "execute_result"
    }
   ],
   "source": [
    "# Function to print the upper and lower character\n",
    "def casecount(filename):\n",
    "    cntupper=0\n",
    "    cntlower=0\n",
    "    with open(filename,'r') as f:         \n",
    "            if  f.mode=='r':\n",
    "                x=f.read()\n",
    "                li=list(x)\n",
    "    for i in li:\n",
    "        if i.isupper():\n",
    "            cntupper+=1\n",
    "        elif i.islower():\n",
    "            cntlower+=1\n",
    "    output='upper case={0},Lower case={1}'.format(cntupper,cntlower)\n",
    "    return output\n",
    "filename=input('enter the filename:')\n",
    "casecount(filename)"
   ]
  },
  {
   "cell_type": "markdown",
   "metadata": {},
   "source": [
    "### math,random,OS\n",
    "- OS Package Consists the certain methods which work with OS"
   ]
  },
  {
   "cell_type": "code",
   "execution_count": 52,
   "metadata": {},
   "outputs": [
    {
     "name": "stdout",
     "output_type": "stream",
     "text": [
      " Volume in drive C is WIN 7\n",
      " Volume Serial Number is B05C-420C\n",
      "\n",
      " Directory of C:\\Users\\199\n",
      "\n",
      "07/11/2019  12:31 PM    <DIR>          .\n",
      "07/11/2019  12:31 PM    <DIR>          ..\n",
      "05/07/2019  09:49 AM    <DIR>          .anaconda\n",
      "03/17/2017  03:30 PM               145 .appletviewer\n",
      "11/02/2017  03:20 PM                 0 .cdtclient\n",
      "07/08/2019  05:04 PM    <DIR>          .conda\n",
      "07/08/2019  02:24 PM                43 .condarc\n",
      "05/21/2019  05:27 PM               203 .gitconfig\n",
      "07/11/2019  09:19 AM    <DIR>          .ipynb_checkpoints\n",
      "05/06/2019  09:40 AM    <DIR>          .ipython\n",
      "07/09/2019  02:21 PM    <DIR>          .jupyter\n",
      "11/16/2018  10:24 AM    <DIR>          .oracle_jre_usage\n",
      "05/21/2019  08:06 PM             5,115 21st may 19.ipynb\n",
      "07/14/2009  10:22 AM           845,941 222.jpg.jpg\n",
      "04/22/2019  04:43 PM    <DIR>          Anaconda3\n",
      "07/14/2009  10:22 AM           879,394 Chrysanthemum.jpg\n",
      "05/13/2019  10:44 AM    <DIR>          Contacts\n",
      "07/11/2019  10:29 AM                16 data.txt\n",
      "07/06/2019  04:12 PM    <DIR>          Desktop\n",
      "05/13/2019  04:44 PM    <DIR>          Documents\n",
      "05/21/2019  10:11 PM    <DIR>          Downloads\n",
      "05/13/2019  10:44 AM    <DIR>          Favorites\n",
      "07/11/2019  09:49 AM               130 file1.txt\n",
      "07/11/2019  10:09 AM               688 file2.txt\n",
      "05/13/2019  10:44 AM    <DIR>          Links\n",
      "05/13/2019  10:44 AM    <DIR>          Music\n",
      "05/13/2019  10:44 AM    <DIR>          Pictures\n",
      "06/22/2019  10:55 AM             3,810 pithon  s.ipynb\n",
      "07/09/2019  05:06 PM            19,321 python day(09-07-2019).ipynb\n",
      "07/08/2019  04:45 PM             5,533 python(08-07-2019).ipynb\n",
      "07/10/2019  12:41 PM            16,570 Python(09-07-2019).ipynb\n",
      "07/11/2019  09:19 AM            23,587 python(10-07-2019).ipynb\n",
      "07/11/2019  12:31 PM            14,355 Python(11-07-2019).ipynb\n",
      "06/21/2019  05:26 PM             2,820 rakii.ipynb\n",
      "05/13/2019  10:44 AM    <DIR>          Saved Games\n",
      "05/13/2019  10:44 AM    <DIR>          Searches\n",
      "05/06/2019  09:40 AM                72 Untitled.ipynb\n",
      "06/22/2019  02:11 AM               930 Untitled1.ipynb\n",
      "06/25/2019  02:55 PM             1,756 Untitled10.ipynb\n",
      "07/06/2019  09:24 AM               732 Untitled11.ipynb\n",
      "07/06/2019  10:50 AM             2,994 Untitled12.ipynb\n",
      "07/06/2019  12:57 PM             1,634 Untitled13.ipynb\n",
      "06/21/2019  04:21 PM             1,111 Untitled2.ipynb\n",
      "06/21/2019  04:51 PM                72 Untitled3.ipynb\n",
      "06/22/2019  09:51 AM             1,227 Untitled4.ipynb\n",
      "06/22/2019  09:51 AM                72 Untitled5.ipynb\n",
      "06/22/2019  11:17 AM             4,451 Untitled6.ipynb\n",
      "06/22/2019  11:00 AM               858 Untitled7.ipynb\n",
      "06/22/2019  11:08 AM             1,144 Untitled8.ipynb\n",
      "06/25/2019  09:27 AM                72 Untitled9.ipynb\n",
      "05/13/2019  10:44 AM    <DIR>          Videos\n",
      "              31 File(s)      1,834,796 bytes\n",
      "              20 Dir(s)  79,249,305,600 bytes free\n"
     ]
    }
   ],
   "source": [
    "ls"
   ]
  },
  {
   "cell_type": "code",
   "execution_count": 57,
   "metadata": {},
   "outputs": [
    {
     "name": "stdout",
     "output_type": "stream",
     "text": [
      "C:\\Users\\199\n"
     ]
    }
   ],
   "source": [
    "cd C:/Users/199"
   ]
  },
  {
   "cell_type": "code",
   "execution_count": 58,
   "metadata": {},
   "outputs": [
    {
     "name": "stdout",
     "output_type": "stream",
     "text": [
      "C:\\Users\n"
     ]
    }
   ],
   "source": [
    "cd .."
   ]
  },
  {
   "cell_type": "code",
   "execution_count": 60,
   "metadata": {},
   "outputs": [
    {
     "ename": "FileNotFoundError",
     "evalue": "[WinError 3] The system cannot find the path specified: 'Git/'",
     "output_type": "error",
     "traceback": [
      "\u001b[1;31m---------------------------------------------------------------------------\u001b[0m",
      "\u001b[1;31mFileNotFoundError\u001b[0m                         Traceback (most recent call last)",
      "\u001b[1;32m<ipython-input-60-5c8a6f0efcc2>\u001b[0m in \u001b[0;36m<module>\u001b[1;34m\u001b[0m\n\u001b[0;32m      1\u001b[0m \u001b[1;32mimport\u001b[0m \u001b[0mos\u001b[0m\u001b[1;33m\u001b[0m\u001b[1;33m\u001b[0m\u001b[0m\n\u001b[1;32m----> 2\u001b[1;33m \u001b[0mli\u001b[0m\u001b[1;33m=\u001b[0m\u001b[0mos\u001b[0m\u001b[1;33m.\u001b[0m\u001b[0mlistdir\u001b[0m\u001b[1;33m(\u001b[0m\u001b[1;34m'Git/'\u001b[0m\u001b[1;33m)\u001b[0m\u001b[1;33m\u001b[0m\u001b[1;33m\u001b[0m\u001b[0m\n\u001b[0m\u001b[0;32m      3\u001b[0m \u001b[1;32mfor\u001b[0m \u001b[0mi\u001b[0m \u001b[1;32min\u001b[0m \u001b[0mli\u001b[0m\u001b[1;33m:\u001b[0m\u001b[1;33m\u001b[0m\u001b[1;33m\u001b[0m\u001b[0m\n\u001b[0;32m      4\u001b[0m     \u001b[0mprint\u001b[0m\u001b[1;33m(\u001b[0m\u001b[0mi\u001b[0m\u001b[1;33m)\u001b[0m\u001b[1;33m\u001b[0m\u001b[1;33m\u001b[0m\u001b[0m\n",
      "\u001b[1;31mFileNotFoundError\u001b[0m: [WinError 3] The system cannot find the path specified: 'Git/'"
     ]
    }
   ],
   "source": [
    "import os\n",
    "li=os.listdir('Git/')\n",
    "for i in li:\n",
    "    print(i)"
   ]
  },
  {
   "cell_type": "code",
   "execution_count": 63,
   "metadata": {},
   "outputs": [
    {
     "name": "stdout",
     "output_type": "stream",
     "text": [
      "C:\\Users\\199\n"
     ]
    }
   ],
   "source": [
    "cd C:/Users/199 "
   ]
  },
  {
   "cell_type": "markdown",
   "metadata": {},
   "source": [
    "- Older version python--os.listdir()\n",
    "- New version python--"
   ]
  },
  {
   "cell_type": "code",
   "execution_count": 65,
   "metadata": {},
   "outputs": [
    {
     "ename": "ImportError",
     "evalue": "cannot import name 'path' from 'pathlib' (C:\\Users\\199\\Anaconda3\\lib\\pathlib.py)",
     "output_type": "error",
     "traceback": [
      "\u001b[1;31m---------------------------------------------------------------------------\u001b[0m",
      "\u001b[1;31mImportError\u001b[0m                               Traceback (most recent call last)",
      "\u001b[1;32m<ipython-input-65-82a681bcecc9>\u001b[0m in \u001b[0;36m<module>\u001b[1;34m\u001b[0m\n\u001b[1;32m----> 1\u001b[1;33m \u001b[1;32mfrom\u001b[0m \u001b[0mpathlib\u001b[0m \u001b[1;32mimport\u001b[0m \u001b[0mpath\u001b[0m\u001b[1;33m\u001b[0m\u001b[1;33m\u001b[0m\u001b[0m\n\u001b[0m\u001b[0;32m      2\u001b[0m \u001b[0mli\u001b[0m\u001b[1;33m=\u001b[0m\u001b[0mpath\u001b[0m\u001b[1;33m(\u001b[0m\u001b[1;34m'Git/'\u001b[0m\u001b[1;33m)\u001b[0m\u001b[1;33m\u001b[0m\u001b[1;33m\u001b[0m\u001b[0m\n\u001b[0;32m      3\u001b[0m \u001b[1;32mfor\u001b[0m \u001b[0mi\u001b[0m \u001b[1;32min\u001b[0m \u001b[0mli\u001b[0m\u001b[1;33m.\u001b[0m\u001b[0miterdir\u001b[0m\u001b[1;33m(\u001b[0m\u001b[1;33m)\u001b[0m\u001b[1;33m:\u001b[0m\u001b[1;33m\u001b[0m\u001b[1;33m\u001b[0m\u001b[0m\n\u001b[0;32m      4\u001b[0m     \u001b[0mprint\u001b[0m\u001b[1;33m(\u001b[0m\u001b[0mi\u001b[0m\u001b[1;33m.\u001b[0m\u001b[0mname\u001b[0m\u001b[1;33m)\u001b[0m\u001b[1;33m\u001b[0m\u001b[1;33m\u001b[0m\u001b[0m\n",
      "\u001b[1;31mImportError\u001b[0m: cannot import name 'path' from 'pathlib' (C:\\Users\\199\\Anaconda3\\lib\\pathlib.py)"
     ]
    }
   ],
   "source": [
    "from pathlib import path\n",
    "li=path('Git/')\n",
    "for i in li.iterdir():\n",
    "    print(i.name)"
   ]
  },
  {
   "cell_type": "markdown",
   "metadata": {},
   "source": [
    "### Listing All Files in a Directory"
   ]
  },
  {
   "cell_type": "code",
   "execution_count": 66,
   "metadata": {},
   "outputs": [
    {
     "ename": "FileNotFoundError",
     "evalue": "[WinError 3] The system cannot find the path specified: 'Git/'",
     "output_type": "error",
     "traceback": [
      "\u001b[1;31m---------------------------------------------------------------------------\u001b[0m",
      "\u001b[1;31mFileNotFoundError\u001b[0m                         Traceback (most recent call last)",
      "\u001b[1;32m<ipython-input-66-4c9b637e01ca>\u001b[0m in \u001b[0;36m<module>\u001b[1;34m\u001b[0m\n\u001b[0;32m      1\u001b[0m \u001b[1;32mimport\u001b[0m \u001b[0mos\u001b[0m\u001b[1;33m\u001b[0m\u001b[1;33m\u001b[0m\u001b[0m\n\u001b[0;32m      2\u001b[0m \u001b[0mdirpath\u001b[0m\u001b[1;33m=\u001b[0m\u001b[1;34m\"Git/\"\u001b[0m\u001b[1;33m\u001b[0m\u001b[1;33m\u001b[0m\u001b[0m\n\u001b[1;32m----> 3\u001b[1;33m \u001b[1;32mfor\u001b[0m \u001b[0mi\u001b[0m \u001b[1;32min\u001b[0m \u001b[0mos\u001b[0m\u001b[1;33m.\u001b[0m\u001b[0mlistdir\u001b[0m\u001b[1;33m(\u001b[0m\u001b[0mdirpath\u001b[0m\u001b[1;33m)\u001b[0m\u001b[1;33m:\u001b[0m \u001b[1;31m#All FILES and Folders\u001b[0m\u001b[1;33m\u001b[0m\u001b[1;33m\u001b[0m\u001b[0m\n\u001b[0m\u001b[0;32m      4\u001b[0m     \u001b[1;32mif\u001b[0m \u001b[0mos\u001b[0m\u001b[1;33m.\u001b[0m\u001b[0mpath\u001b[0m\u001b[1;33m.\u001b[0m\u001b[0misfile\u001b[0m\u001b[1;33m(\u001b[0m\u001b[0mos\u001b[0m\u001b[1;33m.\u001b[0m\u001b[0mpath\u001b[0m\u001b[1;33m.\u001b[0m\u001b[0mjoin\u001b[0m\u001b[1;33m(\u001b[0m\u001b[0mdirpath\u001b[0m\u001b[1;33m,\u001b[0m\u001b[0mi\u001b[0m\u001b[1;33m)\u001b[0m\u001b[1;33m)\u001b[0m\u001b[1;33m:\u001b[0m\u001b[1;33m\u001b[0m\u001b[1;33m\u001b[0m\u001b[0m\n\u001b[0;32m      5\u001b[0m         \u001b[0mprint\u001b[0m\u001b[1;33m(\u001b[0m\u001b[0mi\u001b[0m\u001b[1;33m)\u001b[0m\u001b[1;33m\u001b[0m\u001b[1;33m\u001b[0m\u001b[0m\n",
      "\u001b[1;31mFileNotFoundError\u001b[0m: [WinError 3] The system cannot find the path specified: 'Git/'"
     ]
    }
   ],
   "source": [
    "import os\n",
    "dirpath=\"Git/\"\n",
    "for i in os.listdir(dirpath): #All FILES and Folders\n",
    "    if os.path.isfile(os.path.join(dirpath,i)):\n",
    "        print(i)"
   ]
  },
  {
   "cell_type": "markdown",
   "metadata": {},
   "source": [
    "# Listing sub Directories"
   ]
  },
  {
   "cell_type": "code",
   "execution_count": null,
   "metadata": {},
   "outputs": [],
   "source": [
    "from pathlib import path\n",
    "dirpath='git/'\n",
    "for i in dirpath,iterdir():\n",
    "    if i.is_dir():\n",
    "        print(i.name)"
   ]
  },
  {
   "cell_type": "code",
   "execution_count": null,
   "metadata": {},
   "outputs": [],
   "source": [
    "dirpath='git/'\n",
    "with os.scandir(dirpath) as f:\n",
    "for i in f:\n",
    "    if i.is_dir():\n",
    "        print(i.name)"
   ]
  },
  {
   "cell_type": "markdown",
   "metadata": {},
   "source": [
    "# Creating a Single Directory"
   ]
  },
  {
   "cell_type": "code",
   "execution_count": null,
   "metadata": {},
   "outputs": [],
   "source": [
    "import os\n",
    "os.mkdir('SingleDirectory')"
   ]
  },
  {
   "cell_type": "code",
   "execution_count": 71,
   "metadata": {},
   "outputs": [],
   "source": [
    "import pathlib\n",
    "p=pathlib.Path('testfolder')\n",
    "p.mkdir()"
   ]
  },
  {
   "cell_type": "code",
   "execution_count": 72,
   "metadata": {},
   "outputs": [
    {
     "name": "stdout",
     "output_type": "stream",
     "text": [
      "C:\\Users\\199\\testfolder\n"
     ]
    }
   ],
   "source": [
    "cd testfolder"
   ]
  },
  {
   "cell_type": "code",
   "execution_count": 73,
   "metadata": {},
   "outputs": [
    {
     "data": {
      "text/plain": [
       "'C:\\\\Users\\\\199\\\\testfolder'"
      ]
     },
     "execution_count": 73,
     "metadata": {},
     "output_type": "execute_result"
    }
   ],
   "source": [
    "pwd"
   ]
  },
  {
   "cell_type": "code",
   "execution_count": 67,
   "metadata": {},
   "outputs": [
    {
     "name": "stdout",
     "output_type": "stream",
     "text": [
      " Volume in drive C is WIN 7\n",
      " Volume Serial Number is B05C-420C\n",
      "\n",
      " Directory of C:\\Users\\199\n",
      "\n",
      "07/11/2019  02:49 PM    <DIR>          .\n",
      "07/11/2019  02:49 PM    <DIR>          ..\n",
      "05/07/2019  09:49 AM    <DIR>          .anaconda\n",
      "03/17/2017  03:30 PM               145 .appletviewer\n",
      "11/02/2017  03:20 PM                 0 .cdtclient\n",
      "07/08/2019  05:04 PM    <DIR>          .conda\n",
      "07/08/2019  02:24 PM                43 .condarc\n",
      "05/21/2019  05:27 PM               203 .gitconfig\n",
      "07/11/2019  09:19 AM    <DIR>          .ipynb_checkpoints\n",
      "05/06/2019  09:40 AM    <DIR>          .ipython\n",
      "07/09/2019  02:21 PM    <DIR>          .jupyter\n",
      "11/16/2018  10:24 AM    <DIR>          .oracle_jre_usage\n",
      "05/21/2019  08:06 PM             5,115 21st may 19.ipynb\n",
      "07/14/2009  10:22 AM           845,941 222.jpg.jpg\n",
      "04/22/2019  04:43 PM    <DIR>          Anaconda3\n",
      "07/14/2009  10:22 AM           879,394 Chrysanthemum.jpg\n",
      "05/13/2019  10:44 AM    <DIR>          Contacts\n",
      "07/11/2019  10:29 AM                16 data.txt\n",
      "07/06/2019  04:12 PM    <DIR>          Desktop\n",
      "05/13/2019  04:44 PM    <DIR>          Documents\n",
      "05/21/2019  10:11 PM    <DIR>          Downloads\n",
      "05/13/2019  10:44 AM    <DIR>          Favorites\n",
      "07/11/2019  09:49 AM               130 file1.txt\n",
      "07/11/2019  10:09 AM               688 file2.txt\n",
      "05/13/2019  10:44 AM    <DIR>          Links\n",
      "05/13/2019  10:44 AM    <DIR>          Music\n",
      "05/13/2019  10:44 AM    <DIR>          Pictures\n",
      "06/22/2019  10:55 AM             3,810 pithon  s.ipynb\n",
      "07/09/2019  05:06 PM            19,321 python day(09-07-2019).ipynb\n",
      "07/08/2019  04:45 PM             5,533 python(08-07-2019).ipynb\n",
      "07/10/2019  12:41 PM            16,570 Python(09-07-2019).ipynb\n",
      "07/11/2019  09:19 AM            23,587 python(10-07-2019).ipynb\n",
      "07/11/2019  02:49 PM            25,681 Python(11-07-2019).ipynb\n",
      "06/21/2019  05:26 PM             2,820 rakii.ipynb\n",
      "05/13/2019  10:44 AM    <DIR>          Saved Games\n",
      "05/13/2019  10:44 AM    <DIR>          Searches\n",
      "05/06/2019  09:40 AM                72 Untitled.ipynb\n",
      "06/22/2019  02:11 AM               930 Untitled1.ipynb\n",
      "06/25/2019  02:55 PM             1,756 Untitled10.ipynb\n",
      "07/06/2019  09:24 AM               732 Untitled11.ipynb\n",
      "07/06/2019  10:50 AM             2,994 Untitled12.ipynb\n",
      "07/06/2019  12:57 PM             1,634 Untitled13.ipynb\n",
      "06/21/2019  04:21 PM             1,111 Untitled2.ipynb\n",
      "06/21/2019  04:51 PM                72 Untitled3.ipynb\n",
      "06/22/2019  09:51 AM             1,227 Untitled4.ipynb\n",
      "06/22/2019  09:51 AM                72 Untitled5.ipynb\n",
      "06/22/2019  11:17 AM             4,451 Untitled6.ipynb\n",
      "06/22/2019  11:00 AM               858 Untitled7.ipynb\n",
      "06/22/2019  11:08 AM             1,144 Untitled8.ipynb\n",
      "06/25/2019  09:27 AM                72 Untitled9.ipynb\n",
      "05/13/2019  10:44 AM    <DIR>          Videos\n",
      "              31 File(s)      1,846,122 bytes\n",
      "              20 Dir(s)  79,184,179,200 bytes free\n"
     ]
    }
   ],
   "source": [
    "ls"
   ]
  },
  {
   "cell_type": "markdown",
   "metadata": {},
   "source": [
    "# Creating Multiple Directories"
   ]
  },
  {
   "cell_type": "code",
   "execution_count": 76,
   "metadata": {},
   "outputs": [
    {
     "ename": "FileExistsError",
     "evalue": "[WinError 183] Cannot create a file when that file already exists: '2019/July/11'",
     "output_type": "error",
     "traceback": [
      "\u001b[1;31m---------------------------------------------------------------------------\u001b[0m",
      "\u001b[1;31mFileExistsError\u001b[0m                           Traceback (most recent call last)",
      "\u001b[1;32m<ipython-input-76-d3241745aa94>\u001b[0m in \u001b[0;36m<module>\u001b[1;34m\u001b[0m\n\u001b[0;32m      1\u001b[0m \u001b[1;32mimport\u001b[0m \u001b[0mos\u001b[0m\u001b[1;33m\u001b[0m\u001b[1;33m\u001b[0m\u001b[0m\n\u001b[1;32m----> 2\u001b[1;33m \u001b[0mos\u001b[0m\u001b[1;33m.\u001b[0m\u001b[0mmakedirs\u001b[0m\u001b[1;33m(\u001b[0m\u001b[1;34m'2019/July/11'\u001b[0m\u001b[1;33m)\u001b[0m\u001b[1;33m\u001b[0m\u001b[1;33m\u001b[0m\u001b[0m\n\u001b[0m",
      "\u001b[1;32m~\\Anaconda3\\lib\\os.py\u001b[0m in \u001b[0;36mmakedirs\u001b[1;34m(name, mode, exist_ok)\u001b[0m\n\u001b[0;32m    219\u001b[0m             \u001b[1;32mreturn\u001b[0m\u001b[1;33m\u001b[0m\u001b[1;33m\u001b[0m\u001b[0m\n\u001b[0;32m    220\u001b[0m     \u001b[1;32mtry\u001b[0m\u001b[1;33m:\u001b[0m\u001b[1;33m\u001b[0m\u001b[1;33m\u001b[0m\u001b[0m\n\u001b[1;32m--> 221\u001b[1;33m         \u001b[0mmkdir\u001b[0m\u001b[1;33m(\u001b[0m\u001b[0mname\u001b[0m\u001b[1;33m,\u001b[0m \u001b[0mmode\u001b[0m\u001b[1;33m)\u001b[0m\u001b[1;33m\u001b[0m\u001b[1;33m\u001b[0m\u001b[0m\n\u001b[0m\u001b[0;32m    222\u001b[0m     \u001b[1;32mexcept\u001b[0m \u001b[0mOSError\u001b[0m\u001b[1;33m:\u001b[0m\u001b[1;33m\u001b[0m\u001b[1;33m\u001b[0m\u001b[0m\n\u001b[0;32m    223\u001b[0m         \u001b[1;31m# Cannot rely on checking for EEXIST, since the operating system\u001b[0m\u001b[1;33m\u001b[0m\u001b[1;33m\u001b[0m\u001b[1;33m\u001b[0m\u001b[0m\n",
      "\u001b[1;31mFileExistsError\u001b[0m: [WinError 183] Cannot create a file when that file already exists: '2019/July/11'"
     ]
    }
   ],
   "source": [
    "import os\n",
    "os.makedirs('2019/July/11')"
   ]
  },
  {
   "cell_type": "markdown",
   "metadata": {},
   "source": [
    "# Filename Pattern Matching"
   ]
  },
  {
   "cell_type": "code",
   "execution_count": 74,
   "metadata": {},
   "outputs": [
    {
     "ename": "FileNotFoundError",
     "evalue": "[WinError 3] The system cannot find the path specified: 'Git/'",
     "output_type": "error",
     "traceback": [
      "\u001b[1;31m---------------------------------------------------------------------------\u001b[0m",
      "\u001b[1;31mFileNotFoundError\u001b[0m                         Traceback (most recent call last)",
      "\u001b[1;32m<ipython-input-74-f1e9a822afaa>\u001b[0m in \u001b[0;36m<module>\u001b[1;34m\u001b[0m\n\u001b[0;32m      1\u001b[0m \u001b[1;32mimport\u001b[0m \u001b[0mos\u001b[0m\u001b[1;33m\u001b[0m\u001b[1;33m\u001b[0m\u001b[0m\n\u001b[0;32m      2\u001b[0m \u001b[0mdirpath\u001b[0m\u001b[1;33m=\u001b[0m\u001b[1;34m'Git/'\u001b[0m\u001b[1;33m\u001b[0m\u001b[1;33m\u001b[0m\u001b[0m\n\u001b[1;32m----> 3\u001b[1;33m \u001b[1;32mfor\u001b[0m \u001b[0mf_name\u001b[0m \u001b[1;32min\u001b[0m \u001b[0mos\u001b[0m\u001b[1;33m.\u001b[0m\u001b[0mlistdir\u001b[0m\u001b[1;33m(\u001b[0m\u001b[0mdirpath\u001b[0m\u001b[1;33m)\u001b[0m\u001b[1;33m:\u001b[0m\u001b[1;33m\u001b[0m\u001b[1;33m\u001b[0m\u001b[0m\n\u001b[0m\u001b[0;32m      4\u001b[0m     \u001b[1;32mif\u001b[0m \u001b[0mf_name\u001b[0m\u001b[1;33m.\u001b[0m\u001b[0mendswith\u001b[0m\u001b[1;33m(\u001b[0m\u001b[1;34m'.iypnb'\u001b[0m\u001b[1;33m)\u001b[0m\u001b[1;33m:\u001b[0m\u001b[1;33m\u001b[0m\u001b[1;33m\u001b[0m\u001b[0m\n\u001b[0;32m      5\u001b[0m         \u001b[0mprint\u001b[0m\u001b[1;33m(\u001b[0m\u001b[0mf_name\u001b[0m\u001b[1;33m)\u001b[0m\u001b[1;33m\u001b[0m\u001b[1;33m\u001b[0m\u001b[0m\n",
      "\u001b[1;31mFileNotFoundError\u001b[0m: [WinError 3] The system cannot find the path specified: 'Git/'"
     ]
    }
   ],
   "source": [
    "import os\n",
    "dirpath='Git/'\n",
    "for f_name in os.listdir(dirpath):\n",
    "    if f_name.endswith('.iypnb'):\n",
    "        print(f_name)"
   ]
  },
  {
   "cell_type": "code",
   "execution_count": 77,
   "metadata": {},
   "outputs": [
    {
     "ename": "FileNotFoundError",
     "evalue": "[WinError 3] The system cannot find the path specified: 'Git/'",
     "output_type": "error",
     "traceback": [
      "\u001b[1;31m---------------------------------------------------------------------------\u001b[0m",
      "\u001b[1;31mFileNotFoundError\u001b[0m                         Traceback (most recent call last)",
      "\u001b[1;32m<ipython-input-77-9a27f4d2203b>\u001b[0m in \u001b[0;36m<module>\u001b[1;34m\u001b[0m\n\u001b[0;32m      1\u001b[0m \u001b[1;32mimport\u001b[0m \u001b[0mos\u001b[0m\u001b[1;33m\u001b[0m\u001b[1;33m\u001b[0m\u001b[0m\n\u001b[0;32m      2\u001b[0m \u001b[0mdirpath\u001b[0m\u001b[1;33m=\u001b[0m\u001b[1;34m'Git/'\u001b[0m\u001b[1;33m\u001b[0m\u001b[1;33m\u001b[0m\u001b[0m\n\u001b[1;32m----> 3\u001b[1;33m \u001b[1;32mfor\u001b[0m \u001b[0mf_name\u001b[0m \u001b[1;32min\u001b[0m \u001b[0mos\u001b[0m\u001b[1;33m.\u001b[0m\u001b[0mlistdir\u001b[0m\u001b[1;33m(\u001b[0m\u001b[0mdirpath\u001b[0m\u001b[1;33m)\u001b[0m\u001b[1;33m:\u001b[0m\u001b[1;33m\u001b[0m\u001b[1;33m\u001b[0m\u001b[0m\n\u001b[0m\u001b[0;32m      4\u001b[0m     \u001b[1;32mif\u001b[0m \u001b[0mf_name\u001b[0m\u001b[1;33m.\u001b[0m\u001b[0mstartswith\u001b[0m\u001b[1;33m(\u001b[0m\u001b[1;34m'0'\u001b[0m\u001b[1;33m)\u001b[0m\u001b[1;33m:\u001b[0m\u001b[1;33m\u001b[0m\u001b[1;33m\u001b[0m\u001b[0m\n\u001b[0;32m      5\u001b[0m         \u001b[0mprint\u001b[0m\u001b[1;33m(\u001b[0m\u001b[0mf_name\u001b[0m\u001b[1;33m)\u001b[0m\u001b[1;33m\u001b[0m\u001b[1;33m\u001b[0m\u001b[0m\n",
      "\u001b[1;31mFileNotFoundError\u001b[0m: [WinError 3] The system cannot find the path specified: 'Git/'"
     ]
    }
   ],
   "source": [
    "import os\n",
    "dirpath='Git/'\n",
    "for f_name in os.listdir(dirpath):\n",
    "    if f_name.startswith('0'):\n",
    "        print(f_name)"
   ]
  },
  {
   "cell_type": "markdown",
   "metadata": {},
   "source": [
    "# Deleting the file and Directories\n"
   ]
  },
  {
   "cell_type": "code",
   "execution_count": 78,
   "metadata": {},
   "outputs": [
    {
     "data": {
      "text/plain": [
       "'C:\\\\Users\\\\199\\\\testfolder'"
      ]
     },
     "execution_count": 78,
     "metadata": {},
     "output_type": "execute_result"
    }
   ],
   "source": [
    "pwd\n"
   ]
  },
  {
   "cell_type": "code",
   "execution_count": 79,
   "metadata": {},
   "outputs": [
    {
     "name": "stdout",
     "output_type": "stream",
     "text": [
      "C:\\Users\\199\n"
     ]
    }
   ],
   "source": [
    "cd .."
   ]
  },
  {
   "cell_type": "code",
   "execution_count": null,
   "metadata": {},
   "outputs": [],
   "source": [
    "import os\n",
    "data_file='file1.txt'#Give the entire path C:\\\\users\\\\dell\\\\filename\n",
    "os.remove(data_file)"
   ]
  },
  {
   "cell_type": "code",
   "execution_count": 82,
   "metadata": {},
   "outputs": [
    {
     "name": "stdout",
     "output_type": "stream",
     "text": [
      " Volume in drive C is WIN 7\n",
      " Volume Serial Number is B05C-420C\n",
      "\n",
      " Directory of C:\\Users\\199\n",
      "\n",
      "07/11/2019  03:23 PM    <DIR>          .\n",
      "07/11/2019  03:23 PM    <DIR>          ..\n",
      "05/07/2019  09:49 AM    <DIR>          .anaconda\n",
      "03/17/2017  03:30 PM               145 .appletviewer\n",
      "11/02/2017  03:20 PM                 0 .cdtclient\n",
      "07/08/2019  05:04 PM    <DIR>          .conda\n",
      "07/08/2019  02:24 PM                43 .condarc\n",
      "05/21/2019  05:27 PM               203 .gitconfig\n",
      "07/11/2019  09:19 AM    <DIR>          .ipynb_checkpoints\n",
      "05/06/2019  09:40 AM    <DIR>          .ipython\n",
      "07/09/2019  02:21 PM    <DIR>          .jupyter\n",
      "11/16/2018  10:24 AM    <DIR>          .oracle_jre_usage\n",
      "05/21/2019  08:06 PM             5,115 21st may 19.ipynb\n",
      "07/14/2009  10:22 AM           845,941 222.jpg.jpg\n",
      "04/22/2019  04:43 PM    <DIR>          Anaconda3\n",
      "07/14/2009  10:22 AM           879,394 Chrysanthemum.jpg\n",
      "05/13/2019  10:44 AM    <DIR>          Contacts\n",
      "07/11/2019  10:29 AM                16 data.txt\n",
      "07/06/2019  04:12 PM    <DIR>          Desktop\n",
      "05/13/2019  04:44 PM    <DIR>          Documents\n",
      "05/21/2019  10:11 PM    <DIR>          Downloads\n",
      "05/13/2019  10:44 AM    <DIR>          Favorites\n",
      "07/11/2019  10:09 AM               688 file2.txt\n",
      "05/13/2019  10:44 AM    <DIR>          Links\n",
      "05/13/2019  10:44 AM    <DIR>          Music\n",
      "05/13/2019  10:44 AM    <DIR>          Pictures\n",
      "06/22/2019  10:55 AM             3,810 pithon  s.ipynb\n",
      "07/09/2019  05:06 PM            19,321 python day(09-07-2019).ipynb\n",
      "07/08/2019  04:45 PM             5,533 python(08-07-2019).ipynb\n",
      "07/10/2019  12:41 PM            16,570 Python(09-07-2019).ipynb\n",
      "07/11/2019  09:19 AM            23,587 python(10-07-2019).ipynb\n",
      "07/11/2019  03:23 PM            37,405 Python(11-07-2019).ipynb\n",
      "06/21/2019  05:26 PM             2,820 rakii.ipynb\n",
      "05/13/2019  10:44 AM    <DIR>          Saved Games\n",
      "05/13/2019  10:44 AM    <DIR>          Searches\n",
      "07/11/2019  02:54 PM    <DIR>          Test folder\n",
      "07/11/2019  03:09 PM    <DIR>          testfolder\n",
      "05/06/2019  09:40 AM                72 Untitled.ipynb\n",
      "06/22/2019  02:11 AM               930 Untitled1.ipynb\n",
      "06/25/2019  02:55 PM             1,756 Untitled10.ipynb\n",
      "07/06/2019  09:24 AM               732 Untitled11.ipynb\n",
      "07/06/2019  10:50 AM             2,994 Untitled12.ipynb\n",
      "07/06/2019  12:57 PM             1,634 Untitled13.ipynb\n",
      "06/21/2019  04:21 PM             1,111 Untitled2.ipynb\n",
      "06/21/2019  04:51 PM                72 Untitled3.ipynb\n",
      "06/22/2019  09:51 AM             1,227 Untitled4.ipynb\n",
      "06/22/2019  09:51 AM                72 Untitled5.ipynb\n",
      "06/22/2019  11:17 AM             4,451 Untitled6.ipynb\n",
      "06/22/2019  11:00 AM               858 Untitled7.ipynb\n",
      "06/22/2019  11:08 AM             1,144 Untitled8.ipynb\n",
      "06/25/2019  09:27 AM                72 Untitled9.ipynb\n",
      "05/13/2019  10:44 AM    <DIR>          Videos\n",
      "              30 File(s)      1,857,716 bytes\n",
      "              22 Dir(s)  79,450,152,960 bytes free\n"
     ]
    }
   ],
   "source": [
    "ls"
   ]
  },
  {
   "cell_type": "code",
   "execution_count": 83,
   "metadata": {},
   "outputs": [
    {
     "ename": "OSError",
     "evalue": "[WinError 145] The directory is not empty: 'testfolder'",
     "output_type": "error",
     "traceback": [
      "\u001b[1;31m---------------------------------------------------------------------------\u001b[0m",
      "\u001b[1;31mOSError\u001b[0m                                   Traceback (most recent call last)",
      "\u001b[1;32m<ipython-input-83-6a2b7104006f>\u001b[0m in \u001b[0;36m<module>\u001b[1;34m\u001b[0m\n\u001b[0;32m      1\u001b[0m \u001b[0mdata_dir\u001b[0m\u001b[1;33m=\u001b[0m\u001b[1;34m'testfolder'\u001b[0m\u001b[1;33m\u001b[0m\u001b[1;33m\u001b[0m\u001b[0m\n\u001b[1;32m----> 2\u001b[1;33m \u001b[0mos\u001b[0m\u001b[1;33m.\u001b[0m\u001b[0mrmdir\u001b[0m\u001b[1;33m(\u001b[0m\u001b[0mdata_dir\u001b[0m\u001b[1;33m)\u001b[0m\u001b[1;33m\u001b[0m\u001b[1;33m\u001b[0m\u001b[0m\n\u001b[0m",
      "\u001b[1;31mOSError\u001b[0m: [WinError 145] The directory is not empty: 'testfolder'"
     ]
    }
   ],
   "source": [
    "data_dir='testfolder'\n",
    "os.rmdir(data_dir)"
   ]
  },
  {
   "cell_type": "code",
   "execution_count": 84,
   "metadata": {},
   "outputs": [
    {
     "name": "stdout",
     "output_type": "stream",
     "text": [
      " Volume in drive C is WIN 7\n",
      " Volume Serial Number is B05C-420C\n",
      "\n",
      " Directory of C:\\Users\\199\n",
      "\n",
      "07/11/2019  03:25 PM    <DIR>          .\n",
      "07/11/2019  03:25 PM    <DIR>          ..\n",
      "05/07/2019  09:49 AM    <DIR>          .anaconda\n",
      "03/17/2017  03:30 PM               145 .appletviewer\n",
      "11/02/2017  03:20 PM                 0 .cdtclient\n",
      "07/08/2019  05:04 PM    <DIR>          .conda\n",
      "07/08/2019  02:24 PM                43 .condarc\n",
      "05/21/2019  05:27 PM               203 .gitconfig\n",
      "07/11/2019  09:19 AM    <DIR>          .ipynb_checkpoints\n",
      "05/06/2019  09:40 AM    <DIR>          .ipython\n",
      "07/09/2019  02:21 PM    <DIR>          .jupyter\n",
      "11/16/2018  10:24 AM    <DIR>          .oracle_jre_usage\n",
      "05/21/2019  08:06 PM             5,115 21st may 19.ipynb\n",
      "07/14/2009  10:22 AM           845,941 222.jpg.jpg\n",
      "04/22/2019  04:43 PM    <DIR>          Anaconda3\n",
      "07/14/2009  10:22 AM           879,394 Chrysanthemum.jpg\n",
      "05/13/2019  10:44 AM    <DIR>          Contacts\n",
      "07/11/2019  10:29 AM                16 data.txt\n",
      "07/06/2019  04:12 PM    <DIR>          Desktop\n",
      "05/13/2019  04:44 PM    <DIR>          Documents\n",
      "05/21/2019  10:11 PM    <DIR>          Downloads\n",
      "05/13/2019  10:44 AM    <DIR>          Favorites\n",
      "07/11/2019  10:09 AM               688 file2.txt\n",
      "05/13/2019  10:44 AM    <DIR>          Links\n",
      "05/13/2019  10:44 AM    <DIR>          Music\n",
      "05/13/2019  10:44 AM    <DIR>          Pictures\n",
      "06/22/2019  10:55 AM             3,810 pithon  s.ipynb\n",
      "07/09/2019  05:06 PM            19,321 python day(09-07-2019).ipynb\n",
      "07/08/2019  04:45 PM             5,533 python(08-07-2019).ipynb\n",
      "07/10/2019  12:41 PM            16,570 Python(09-07-2019).ipynb\n",
      "07/11/2019  09:19 AM            23,587 python(10-07-2019).ipynb\n",
      "07/11/2019  03:25 PM            41,304 Python(11-07-2019).ipynb\n",
      "06/21/2019  05:26 PM             2,820 rakii.ipynb\n",
      "05/13/2019  10:44 AM    <DIR>          Saved Games\n",
      "05/13/2019  10:44 AM    <DIR>          Searches\n",
      "07/11/2019  02:54 PM    <DIR>          Test folder\n",
      "07/11/2019  03:09 PM    <DIR>          testfolder\n",
      "05/06/2019  09:40 AM                72 Untitled.ipynb\n",
      "06/22/2019  02:11 AM               930 Untitled1.ipynb\n",
      "06/25/2019  02:55 PM             1,756 Untitled10.ipynb\n",
      "07/06/2019  09:24 AM               732 Untitled11.ipynb\n",
      "07/06/2019  10:50 AM             2,994 Untitled12.ipynb\n",
      "07/06/2019  12:57 PM             1,634 Untitled13.ipynb\n",
      "06/21/2019  04:21 PM             1,111 Untitled2.ipynb\n",
      "06/21/2019  04:51 PM                72 Untitled3.ipynb\n",
      "06/22/2019  09:51 AM             1,227 Untitled4.ipynb\n",
      "06/22/2019  09:51 AM                72 Untitled5.ipynb\n",
      "06/22/2019  11:17 AM             4,451 Untitled6.ipynb\n",
      "06/22/2019  11:00 AM               858 Untitled7.ipynb\n",
      "06/22/2019  11:08 AM             1,144 Untitled8.ipynb\n",
      "06/25/2019  09:27 AM                72 Untitled9.ipynb\n",
      "05/13/2019  10:44 AM    <DIR>          Videos\n",
      "              30 File(s)      1,861,615 bytes\n",
      "              22 Dir(s)  79,450,476,544 bytes free\n"
     ]
    }
   ],
   "source": [
    "ls"
   ]
  },
  {
   "cell_type": "code",
   "execution_count": null,
   "metadata": {},
   "outputs": [],
   "source": [
    "import shutil #delete the tree of structure of folder                                    \n",
    "data_dir='2019'     \n",
    "shutil.rmtree(data_dir)"
   ]
  },
  {
   "cell_type": "markdown",
   "metadata": {},
   "source": [
    "# Regular Expressions\n",
    "- used to specific pattern matching\n",
    "- symbolic notations of pattern\n",
    "- patterns (RE) represents"
   ]
  },
  {
   "cell_type": "code",
   "execution_count": 86,
   "metadata": {},
   "outputs": [
    {
     "name": "stdout",
     "output_type": "stream",
     "text": [
      "value inside function: 10\n",
      "value outside function: 20\n"
     ]
    }
   ],
   "source": [
    "def my_func():\n",
    "    x=10\n",
    "    print(\"value inside function:\",x)\n",
    "x=20\n",
    "my_func()\n",
    "print(\"value outside function:\",x)\n"
   ]
  },
  {
   "cell_type": "code",
   "execution_count": null,
   "metadata": {},
   "outputs": [],
   "source": []
  }
 ],
 "metadata": {
  "kernelspec": {
   "display_name": "Python 3",
   "language": "python",
   "name": "python3"
  },
  "language_info": {
   "codemirror_mode": {
    "name": "ipython",
    "version": 3
   },
   "file_extension": ".py",
   "mimetype": "text/x-python",
   "name": "python",
   "nbconvert_exporter": "python",
   "pygments_lexer": "ipython3",
   "version": "3.7.3"
  }
 },
 "nbformat": 4,
 "nbformat_minor": 2
}
