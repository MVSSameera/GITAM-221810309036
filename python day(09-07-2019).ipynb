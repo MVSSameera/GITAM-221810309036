{
 "cells": [
  {
   "cell_type": "markdown",
   "metadata": {},
   "source": [
    "### Day Objectives\n",
    "* Python Data Structures\n",
    "  * Lists\n",
    "  * Tuples\n",
    "  * Dictionaries\n",
    "  * Basic Program Sets on Data Structures\n",
    "  * Advanced Problem Sets\n",
    "### Data Structures:\n",
    "* To Store,Search and sort the data\n"
   ]
  },
  {
   "cell_type": "markdown",
   "metadata": {},
   "source": [
    "### Python Data Structure\n",
    "#### Lists\n",
    "* It's one of common data structures supports by python,the list items are separated by comma operator and enclosed in square brackets.\n",
    "* Example:\n",
    "   - list1=[1,6,2,18,9]\n",
    "   - list2=[\"Gitam\",10,12,15.5,\"Hyderabad\"]"
   ]
  },
  {
   "cell_type": "code",
   "execution_count": 2,
   "metadata": {},
   "outputs": [
    {
     "name": "stdout",
     "output_type": "stream",
     "text": [
      "[1, 8, 16, 9, 2]\n",
      "1\n",
      "8\n",
      "2\n",
      "9\n",
      "[8, 16, 9, 2]\n",
      "[8, 16, 9]\n"
     ]
    }
   ],
   "source": [
    "lst=[1,8,16,9,2] # Creating the list object in python\n",
    "print(lst) #Access the entire list\n",
    "print(lst[0]) # Access the first item list\n",
    "print(lst[1])#Access the second item list\n",
    "print(lst[-1])\n",
    "print(lst[-2])\n",
    "print(lst[1:])\n",
    "print(lst[1:4])"
   ]
  },
  {
   "cell_type": "code",
   "execution_count": 4,
   "metadata": {},
   "outputs": [
    {
     "name": "stdout",
     "output_type": "stream",
     "text": [
      "['Gitam', 'Python', 1989, 2002]\n",
      "['Gitam', 'Python', 2019, 2002]\n"
     ]
    }
   ],
   "source": [
    "# update the list item value using index(direct refering)\n",
    "li=[\"Gitam\",\"Python\",1989,2002]\n",
    "print(li)\n",
    "li[2]=2019\n",
    "print(li)"
   ]
  },
  {
   "cell_type": "code",
   "execution_count": 6,
   "metadata": {},
   "outputs": [
    {
     "name": "stdout",
     "output_type": "stream",
     "text": [
      "['Gitam', 'Python', 2019, 2002]\n",
      "['Gitam', 'Python', 2002]\n"
     ]
    }
   ],
   "source": [
    "#Delete the specific item in th elist\n",
    "print(li)\n",
    "del(li[2])\n",
    "print(li)"
   ]
  },
  {
   "cell_type": "code",
   "execution_count": 11,
   "metadata": {},
   "outputs": [
    {
     "name": "stdout",
     "output_type": "stream",
     "text": [
      "5\n",
      "[1, 9, 6, 18, 2, 1, 9, 6, 18, 2]\n",
      "5\n",
      "True\n",
      "False\n",
      "1   9   6   18   2   "
     ]
    }
   ],
   "source": [
    "#Basic list operation\n",
    "lst1=[1,9,6,18,2]\n",
    "print(len(lst1))#lenght of the list\n",
    "print(lst1 * 2) # Repetation\n",
    "print(len(lst1))\n",
    "print(9 in lst1)#list is present or not\n",
    "print(15 in lst1)\n",
    "#access the list items using iteration\n",
    "for x in range (len(lst1)):\n",
    "     print(lst1[x],end=\"   \")"
   ]
  },
  {
   "cell_type": "code",
   "execution_count": 13,
   "metadata": {},
   "outputs": [
    {
     "name": "stdout",
     "output_type": "stream",
     "text": [
      "1\n",
      "18\n",
      "36\n",
      "7\n",
      "13.5\n"
     ]
    }
   ],
   "source": [
    "# Function of the list\n",
    "lst1\n",
    "print(min(lst1)) #Min item/element of the list \n",
    "print(max(lst1)) #Max element of the list\n",
    "print(sum(lst1)) # Sum of all elements in the list\n",
    "print(sum(lst1)//len(lst1)) # average of list elements \n",
    "print(sum(lst1[1::2])/len(lst1[1::2]))#average of alternate numbers in the list"
   ]
  },
  {
   "cell_type": "code",
   "execution_count": 17,
   "metadata": {},
   "outputs": [
    {
     "data": {
      "text/plain": [
       "[45, 23, 56, 56, 56, 45, 45, 45, 24, 24, 24, 24, 23, 23, 23, 1]"
      ]
     },
     "execution_count": 17,
     "metadata": {},
     "output_type": "execute_result"
    }
   ],
   "source": [
    "lst1\n",
    "lst1.append(24) #adding a newlement at end of the list\n",
    "lst1\n",
    "lst1.insert(2,56) #adding an element at particular index\n",
    "lst1\n",
    "lst1.count(18)#Return the value how many times the object reported\n",
    "lst1.index(56)\n",
    "lst1.sort()#it's sort the list in ascending order\n",
    "lst1\n",
    "lst1.pop() #remove the last element from the list\n",
    "lst1\n",
    "lst1.pop(1) #remove the element from particular index\n",
    "lst2=[123,23,45]\n",
    "lst1.extend(lst2)#Merge the list2 into list1\n",
    "lst1\n",
    "lst1.reverse() #reverse the list\n",
    "lst1\n",
    "lst1.remove(123)#remove the element from the list\n",
    "lst1"
   ]
  },
  {
   "cell_type": "code",
   "execution_count": 22,
   "metadata": {},
   "outputs": [
    {
     "name": "stdout",
     "output_type": "stream",
     "text": [
      "[3, 2]\n"
     ]
    }
   ],
   "source": [
    "li=[1,9,6,2,18,3]\n",
    "print(li[-1:2:-2])"
   ]
  },
  {
   "cell_type": "code",
   "execution_count": 23,
   "metadata": {},
   "outputs": [
    {
     "data": {
      "text/plain": [
       "6"
      ]
     },
     "execution_count": 23,
     "metadata": {},
     "output_type": "execute_result"
    }
   ],
   "source": [
    "#function to find second largest item from the list\n",
    "#Input:[1,19,6,2,8,18,3]\n",
    "#Output:18\n",
    "def secondlarge(li):\n",
    "    li.sort()\n",
    "    return li[-2]\n",
    "def genericlarge(li,n):\n",
    "    li.sort()\n",
    "    return li[-n]\n",
    "li=[1,19,6,2,8,18,3]\n",
    "genericlarge(li,4)"
   ]
  },
  {
   "cell_type": "code",
   "execution_count": 29,
   "metadata": {},
   "outputs": [
    {
     "data": {
      "text/plain": [
       "1"
      ]
     },
     "execution_count": 29,
     "metadata": {},
     "output_type": "execute_result"
    }
   ],
   "source": [
    "#function to find second least item from the list\n",
    "#Input:[1,19,6,2,8,18,3]\n",
    "#Output:2\n",
    "def secondleast(li):\n",
    "    li.sort()\n",
    "    return li[1]\n",
    "def genericleast(li,n):\n",
    "    li.sort()\n",
    "    return li[n-1]\n",
    "li=[1,19,6,2,8,18,3]\n",
    "genericleast(li,1)"
   ]
  },
  {
   "cell_type": "markdown",
   "metadata": {},
   "source": [
    "### Linear Search\n",
    "* Linear Search Algorithm can be applied on Duplicate and unique List\n",
    "   - Uniuqe List:The all items of the list is appeared  only one\n",
    "   - Duplicate List:The items of the list can be appeared"
   ]
  },
  {
   "cell_type": "code",
   "execution_count": 30,
   "metadata": {},
   "outputs": [
    {
     "data": {
      "text/plain": [
       "-1"
      ]
     },
     "execution_count": 30,
     "metadata": {},
     "output_type": "execute_result"
    }
   ],
   "source": [
    "#Function to search the data of a list\n",
    "#search is found then return the index if not return\n",
    "def linearserch1(li,tarItem):\n",
    "    for x in range(len(li)):\n",
    "        if li[x]==tarItem:\n",
    "            return x\n",
    "    return -1\n",
    "li=[1,19,6,2,8,18,3]\n",
    "linearserch1(li,225)"
   ]
  },
  {
   "cell_type": "code",
   "execution_count": 40,
   "metadata": {
    "scrolled": true
   },
   "outputs": [
    {
     "name": "stdout",
     "output_type": "stream",
     "text": [
      "1 4 8 "
     ]
    }
   ],
   "source": [
    "#Function\n",
    "#Input:[1,5,9,6,5,15,1,2,5],key=5 #Duplicate\n",
    "#Output:1 4 8\n",
    "def linearsearch2(li,tarItem):\n",
    "    for x in range(len(li)):\n",
    "         if li[x]==tarItem:\n",
    "                print(x,end=\" \")\n",
    "    return\n",
    "li=[1,5,9,6,5,15,1,2,5]\n",
    "linearsearch2(li,5)"
   ]
  },
  {
   "cell_type": "code",
   "execution_count": 46,
   "metadata": {},
   "outputs": [
    {
     "name": "stdout",
     "output_type": "stream",
     "text": [
      "! !    ! ! ! ! !    ! ! ! ! ! ! ! ! !    "
     ]
    }
   ],
   "source": [
    "#Function \n",
    "#Input: List\n",
    "#Output:seq of characters\n",
    "#Test Care:\n",
    "#[1,5,9,6,5,15,1,2,5]-- !! !!!!! !!!!!!!!!\n",
    "def linearsearch3(li,tarItem):\n",
    "    for x in range(len(li)):\n",
    "        if li[x]==tarItem:\n",
    "            j=0\n",
    "            while j!=x+1:\n",
    "                print(\"!\",end=\" \")\n",
    "                j=j+1\n",
    "            print(end=\"   \")\n",
    "    return\n",
    "li=[1,5,9,6,5,15,1,2,5]\n",
    "linearsearch3(li,5)"
   ]
  },
  {
   "cell_type": "code",
   "execution_count": 51,
   "metadata": {},
   "outputs": [
    {
     "data": {
      "text/plain": [
       "60"
      ]
     },
     "execution_count": 51,
     "metadata": {},
     "output_type": "execute_result"
    }
   ],
   "source": [
    "#Function\n",
    "#Input:List\n",
    "#Output:Formatted\n",
    "#Test Case:\n",
    "#[12,2,45,9,18,15,36]--60\n",
    "#A list item which is perfectly multiple of 3 and 5\n",
    "def linearsearch4(li):\n",
    "    sum=0\n",
    "    for x in range(len(li)):\n",
    "        if li[x]%3==0 and li[x]%5==0:\n",
    "            sum+=li[x] #sum=sum+li[x]\n",
    "    return sum\n",
    "li=[12,2,45,9,18,15,36]\n",
    "linearsearch4(li) #60"
   ]
  },
  {
   "cell_type": "code",
   "execution_count": 53,
   "metadata": {},
   "outputs": [],
   "source": [
    "#Function\n",
    "#Input:List\n",
    "#Output:Formatted output\n",
    "#Test Case:\n",
    "#[1,2,3,4,5]--[1,3,8,15,5]\n",
    "#[6,5,2,8,2]--[6,12,40,4,2]\n",
    "def linearsearch5(li):\n",
    "    for x in range(len(li)):\n",
    "        if x==0 or x==len(li) -1:\n",
    "            print(li[x],end=\" \")\n",
    "            "
   ]
  },
  {
   "cell_type": "markdown",
   "metadata": {},
   "source": [
    "# 1.Print first and last as it is because first number does not have previous and last does not have next number\n",
    "# 2.Need to multiply the previous and next number"
   ]
  },
  {
   "cell_type": "code",
   "execution_count": 57,
   "metadata": {},
   "outputs": [
    {
     "name": "stdout",
     "output_type": "stream",
     "text": [
      "1 9 19 22 "
     ]
    }
   ],
   "source": [
    "#Function\n",
    "#Input:List\n",
    "#Output:Formatted Output\n",
    "#Test case:\n",
    "#[1,6,9,4,16,19,22]--1 9 19 22\n",
    "def linearsearch6(li):\n",
    "    for x in range(len(li)):\n",
    "        if x==0 or x==len(li) -1:\n",
    "            print(li[x],end=\" \")\n",
    "        elif li[x-1]%2==0 and li[x+1]%2==0:\n",
    "            print(li[x],end=\" \")\n",
    "    return\n",
    "li=[1,6,9,4,16,19,22]\n",
    "linearsearch6(li)"
   ]
  },
  {
   "cell_type": "markdown",
   "metadata": {},
   "source": [
    "# 1.First and last element print as it is\n",
    "# 2.Both sides numbers are even then print it\n"
   ]
  },
  {
   "cell_type": "markdown",
   "metadata": {},
   "source": [
    "- input as number\n",
    "* Expected output will be list"
   ]
  },
  {
   "cell_type": "code",
   "execution_count": 56,
   "metadata": {},
   "outputs": [
    {
     "data": {
      "text/plain": [
       "[1, 4, 5, 6, 9]"
      ]
     },
     "execution_count": 56,
     "metadata": {},
     "output_type": "execute_result"
    }
   ],
   "source": [
    "#Function for conversion\n",
    "#Input--Number\n",
    "#Output--List\n",
    "#Test Case:\n",
    "#14569--[1,4,5,6,9]\n",
    "#1990--[1,9,9,0]\n",
    "def numberlistconversion(n):\n",
    "    li=[]\n",
    "    while n!=0:\n",
    "        r=n%10\n",
    "        li.append(r)\n",
    "        n=n//10\n",
    "    li.reverse()\n",
    "    return li\n",
    "numberlistconversion(14569)"
   ]
  },
  {
   "cell_type": "code",
   "execution_count": 59,
   "metadata": {},
   "outputs": [
    {
     "data": {
      "text/plain": [
       "2"
      ]
     },
     "execution_count": 59,
     "metadata": {},
     "output_type": "execute_result"
    }
   ],
   "source": [
    "#Function to count the occurance of a character in a string\n",
    "# 'Python Programming',P->2\n",
    "# \"Python Programming\",m->2\n",
    "def countcharoccurance(s,c):\n",
    "    cnt=0\n",
    "    for ch in s:\n",
    "        if ch==c:\n",
    "            cnt=cnt+1\n",
    "    return cnt\n",
    "countcharoccurance(\"PythonProgramming\",'m')"
   ]
  },
  {
   "cell_type": "raw",
   "metadata": {},
   "source": [
    "def countcharoccurance(s,c):\n",
    "    cnt=0\n",
    "    for ch in s:\n",
    "        if ch==c:\n",
    "            cnt=cnt+1                              #Both the Functions gives the sameoutput\n",
    "    return cnt\n",
    "def countcharoccurance1(s,c):\n",
    "    return s.count(c)\n",
    "countcharoccurance1(\"PythonProgramming\",'m')"
   ]
  },
  {
   "cell_type": "markdown",
   "metadata": {},
   "source": [
    "# String to List Conversion\n",
    "- Input will be string\n",
    "- Expected output will be List"
   ]
  },
  {
   "cell_type": "code",
   "execution_count": 62,
   "metadata": {},
   "outputs": [
    {
     "data": {
      "text/plain": [
       "[1, 2, 3, 4, 5, 6]"
      ]
     },
     "execution_count": 62,
     "metadata": {},
     "output_type": "execute_result"
    }
   ],
   "source": [
    "#Function convert the string  in to list\n",
    "#Test Case\n",
    "# \"1 2 3 4 5 6\"---[1,2,3,4,5,6]\n",
    "def strintolistconversion(s):\n",
    "    li=s.split()\n",
    "    numberlist=[]\n",
    "    for i in li:\n",
    "        numberlist.append(int(i))\n",
    "    return numberlist\n",
    "s=\"1 2 3 4 5 6\"\n",
    "strintolistconversion(s)"
   ]
  },
  {
   "cell_type": "markdown",
   "metadata": {},
   "source": [
    "# Sorting Algorithm\n",
    "* All the sorting algorithm makes the list into ascending order\n",
    "  * Bubble Sort\n",
    "  * Selection Sort\n",
    "  * Insertion sort\n",
    "  "
   ]
  },
  {
   "cell_type": "markdown",
   "metadata": {},
   "source": [
    "# Bubble Sort\n",
    "\n",
    "\n"
   ]
  },
  {
   "cell_type": "markdown",
   "metadata": {},
   "source": [
    "* this algorithm compares the adj elements if the first element is greater than second element then its element then it's required to swap.\n"
   ]
  },
  {
   "cell_type": "code",
   "execution_count": 67,
   "metadata": {},
   "outputs": [
    {
     "data": {
      "text/plain": [
       "[1, 3, 6, 18, 19, 25]"
      ]
     },
     "execution_count": 67,
     "metadata": {},
     "output_type": "execute_result"
    }
   ],
   "source": [
    "#Function to represent the bubble sort\n",
    "def bubblesort(li):\n",
    "    for i in range(len(li)-1):\n",
    "        for j in range(len(li)-1):\n",
    "            if li[j]>li[j+1]:\n",
    "                li[j],li[j+1]=li[j+1],li[j]\n",
    "    return li\n",
    "li=[19,1,25,6,18,3]\n",
    "bubblesort(li)"
   ]
  },
  {
   "cell_type": "code",
   "execution_count": 68,
   "metadata": {},
   "outputs": [
    {
     "name": "stdout",
     "output_type": "stream",
     "text": [
      "['Hyderabad', 'Hyderabad', 'Hyderabad', 'Hyderabad', 'Hyderabad']\n"
     ]
    }
   ],
   "source": [
    "li=[\"Hyderabad\"]\n",
    "print(li*5)"
   ]
  },
  {
   "cell_type": "code",
   "execution_count": 75,
   "metadata": {},
   "outputs": [
    {
     "name": "stdout",
     "output_type": "stream",
     "text": [
      "14569\n"
     ]
    }
   ],
   "source": [
    " def convert(list):   \n",
    "    # Converting integer list to string list \n",
    "    x = [str(i) for i in list] \n",
    "       # Join list items using join() \n",
    "    r = int(\"\".join(x)) \n",
    "    return(r)\n",
    "list = [1,4,5,6,9] \n",
    "print(convert(list)) "
   ]
  },
  {
   "cell_type": "code",
   "execution_count": 82,
   "metadata": {},
   "outputs": [
    {
     "ename": "TypeError",
     "evalue": "'>' not supported between instances of 'list' and 'int'",
     "output_type": "error",
     "traceback": [
      "\u001b[1;31m---------------------------------------------------------------------------\u001b[0m",
      "\u001b[1;31mTypeError\u001b[0m                                 Traceback (most recent call last)",
      "\u001b[1;32m<ipython-input-82-566dce62cb79>\u001b[0m in \u001b[0;36m<module>\u001b[1;34m\u001b[0m\n\u001b[0;32m      6\u001b[0m     \u001b[1;32mreturn\u001b[0m\u001b[1;33m(\u001b[0m\u001b[0mr\u001b[0m\u001b[1;33m)\u001b[0m\u001b[1;33m\u001b[0m\u001b[1;33m\u001b[0m\u001b[0m\n\u001b[0;32m      7\u001b[0m \u001b[0mlist\u001b[0m\u001b[1;33m=\u001b[0m\u001b[1;33m[\u001b[0m\u001b[1;36m1\u001b[0m\u001b[1;33m,\u001b[0m\u001b[1;36m4\u001b[0m\u001b[1;33m,\u001b[0m\u001b[1;36m5\u001b[0m\u001b[1;33m,\u001b[0m\u001b[1;36m6\u001b[0m\u001b[1;33m,\u001b[0m\u001b[1;36m9\u001b[0m\u001b[1;33m]\u001b[0m\u001b[1;33m\u001b[0m\u001b[1;33m\u001b[0m\u001b[0m\n\u001b[1;32m----> 8\u001b[1;33m \u001b[0mprint\u001b[0m\u001b[1;33m(\u001b[0m\u001b[0meven\u001b[0m\u001b[1;33m(\u001b[0m\u001b[0mlist\u001b[0m\u001b[1;33m)\u001b[0m\u001b[1;33m)\u001b[0m\u001b[1;33m\u001b[0m\u001b[1;33m\u001b[0m\u001b[0m\n\u001b[0m",
      "\u001b[1;32m<ipython-input-82-566dce62cb79>\u001b[0m in \u001b[0;36meven\u001b[1;34m(list)\u001b[0m\n\u001b[0;32m      1\u001b[0m \u001b[1;32mdef\u001b[0m \u001b[0meven\u001b[0m\u001b[1;33m(\u001b[0m\u001b[0mlist\u001b[0m\u001b[1;33m)\u001b[0m\u001b[1;33m:\u001b[0m\u001b[1;33m\u001b[0m\u001b[1;33m\u001b[0m\u001b[0m\n\u001b[0;32m      2\u001b[0m     \u001b[0mx\u001b[0m\u001b[1;33m=\u001b[0m\u001b[1;33m[\u001b[0m\u001b[0mstr\u001b[0m\u001b[1;33m(\u001b[0m\u001b[0mi\u001b[0m\u001b[1;33m)\u001b[0m \u001b[1;32mfor\u001b[0m \u001b[0mi\u001b[0m \u001b[1;32min\u001b[0m \u001b[0mlist\u001b[0m\u001b[1;33m]\u001b[0m\u001b[1;33m\u001b[0m\u001b[1;33m\u001b[0m\u001b[0m\n\u001b[1;32m----> 3\u001b[1;33m     \u001b[1;32mwhile\u001b[0m \u001b[0mx\u001b[0m\u001b[1;33m>\u001b[0m\u001b[1;36m0\u001b[0m\u001b[1;33m:\u001b[0m\u001b[1;33m\u001b[0m\u001b[1;33m\u001b[0m\u001b[0m\n\u001b[0m\u001b[0;32m      4\u001b[0m         \u001b[1;32mif\u001b[0m \u001b[0mx\u001b[0m\u001b[1;33m%\u001b[0m\u001b[1;36m2\u001b[0m\u001b[1;33m==\u001b[0m\u001b[1;36m0\u001b[0m\u001b[1;33m:\u001b[0m\u001b[1;33m\u001b[0m\u001b[1;33m\u001b[0m\u001b[0m\n\u001b[0;32m      5\u001b[0m             \u001b[0mr\u001b[0m\u001b[1;33m=\u001b[0m\u001b[0mint\u001b[0m\u001b[1;33m(\u001b[0m\u001b[1;34m\"\"\u001b[0m\u001b[1;33m.\u001b[0m\u001b[0mjoin\u001b[0m\u001b[1;33m(\u001b[0m\u001b[0mx\u001b[0m\u001b[1;33m)\u001b[0m\u001b[1;33m)\u001b[0m\u001b[1;33m\u001b[0m\u001b[1;33m\u001b[0m\u001b[0m\n",
      "\u001b[1;31mTypeError\u001b[0m: '>' not supported between instances of 'list' and 'int'"
     ]
    }
   ],
   "source": [
    "def even(list):\n",
    "    x=[str(i) for i in list]\n",
    "    while x>0:\n",
    "        if x%2==0:\n",
    "            r=int(\"\".join(x)) \n",
    "    return(r)\n",
    "list=[1,4,5,6,9]\n",
    "print(even(list))\n"
   ]
  },
  {
   "cell_type": "code",
   "execution_count": null,
   "metadata": {},
   "outputs": [],
   "source": []
  }
 ],
 "metadata": {
  "kernelspec": {
   "display_name": "Python 3",
   "language": "python",
   "name": "python3"
  },
  "language_info": {
   "codemirror_mode": {
    "name": "ipython",
    "version": 3
   },
   "file_extension": ".py",
   "mimetype": "text/x-python",
   "name": "python",
   "nbconvert_exporter": "python",
   "pygments_lexer": "ipython3",
   "version": "3.7.3"
  }
 },
 "nbformat": 4,
 "nbformat_minor": 2
}
